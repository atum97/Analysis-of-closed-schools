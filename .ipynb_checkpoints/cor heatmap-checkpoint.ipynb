{
 "cells": [
  {
   "cell_type": "code",
   "execution_count": 1,
   "id": "9809e837-a51a-41b6-a161-1ba58b65d2f7",
   "metadata": {},
   "outputs": [],
   "source": [
    "import pandas as pd\n",
    "import os\n",
    "import matplotlib.pyplot as plt\n",
    "import seaborn as sns\n",
    "\n",
    "plt.rcParams['figure.figsize'] = [12,5]\n",
    "os.chdir(r'C:\\Users\\user\\Desktop\\전처리 데이터')"
   ]
  },
  {
   "cell_type": "code",
   "execution_count": 2,
   "id": "5585d433-7045-43be-a393-07a5bb88659d",
   "metadata": {},
   "outputs": [],
   "source": [
    "from matplotlib import font_manager, rc\n",
    "font_path = \"C:/Windows/Fonts/H2GTRM.TTF\"\n",
    "font = font_manager.FontProperties(fname=font_path).get_name()\n",
    "rc('font', family=font)"
   ]
  },
  {
   "cell_type": "code",
   "execution_count": 3,
   "id": "65973eea-8171-4dd3-85a8-109eb32053f4",
   "metadata": {},
   "outputs": [
    {
     "data": {
      "text/plain": [
       "['.RData',\n",
       " '.Rhistory',\n",
       " 'df_analysis(아동청소년).csv',\n",
       " 'df_analysis_면적.csv',\n",
       " 'old_school_sgg.xlsx',\n",
       " 'old_school_umd.xlsx',\n",
       " 'old_school_umd_원본.xlsx',\n",
       " 'Preprocessing_sgg.xlsx',\n",
       " 'Preprocessing_umd.xlsx',\n",
       " 'test.csv',\n",
       " '개발제한구역_활용현황_전처리완료.csv',\n",
       " '경상_시군구_비율_정제.xlsx',\n",
       " '경상_읍면동_비율_정제.xlsx',\n",
       " '경상_활용용도_현황.csv',\n",
       " '농기계임대장 현황_경상도_시도.csv',\n",
       " '농기계임대장 현황_전국_시도.csv',\n",
       " '라벨.csv',\n",
       " '라벨1.xlsx',\n",
       " '라벨2.csv',\n",
       " '라벨3.csv',\n",
       " '시군구_법정코드.xlsx',\n",
       " '읍면동_법정코드.xlsx',\n",
       " '읍면동_인구수_전처리.xlsx',\n",
       " '인구통합',\n",
       " '전국농기계임대정보표준데이터.csv',\n",
       " '전국농어촌체험휴양마을표준데이터_전처리.csv',\n",
       " '전국농어촌체험휴양마을표준데이터_최종.csv',\n",
       " '전통시장통계_시군구_최종.csv',\n",
       " '폐교데이터_전처리_교육+소득증대.xlsx',\n",
       " '폐교데이터_전처리_완성.xlsx',\n",
       " '폐교용도라벨_세부추가.xlsx',\n",
       " '폐교용도라벨_통합분류.csv',\n",
       " '폐교용도라벨_통합분류_최종.csv',\n",
       " '행정_읍면_코드.xlsx']"
      ]
     },
     "execution_count": 3,
     "metadata": {},
     "output_type": "execute_result"
    }
   ],
   "source": [
    "os.listdir()"
   ]
  },
  {
   "cell_type": "code",
   "execution_count": 4,
   "id": "0dc93617-cf69-40c3-be2a-06067bed3087",
   "metadata": {},
   "outputs": [
    {
     "data": {
      "text/html": [
       "<div>\n",
       "<style scoped>\n",
       "    .dataframe tbody tr th:only-of-type {\n",
       "        vertical-align: middle;\n",
       "    }\n",
       "\n",
       "    .dataframe tbody tr th {\n",
       "        vertical-align: top;\n",
       "    }\n",
       "\n",
       "    .dataframe thead th {\n",
       "        text-align: right;\n",
       "    }\n",
       "</style>\n",
       "<table border=\"1\" class=\"dataframe\">\n",
       "  <thead>\n",
       "    <tr style=\"text-align: right;\">\n",
       "      <th></th>\n",
       "      <th>활용용도</th>\n",
       "      <th>개수</th>\n",
       "    </tr>\n",
       "  </thead>\n",
       "  <tbody>\n",
       "    <tr>\n",
       "      <th>0</th>\n",
       "      <td>교육용시설</td>\n",
       "      <td>80</td>\n",
       "    </tr>\n",
       "    <tr>\n",
       "      <th>1</th>\n",
       "      <td>교육연구시설</td>\n",
       "      <td>49</td>\n",
       "    </tr>\n",
       "    <tr>\n",
       "      <th>2</th>\n",
       "      <td>소득증대시설</td>\n",
       "      <td>48</td>\n",
       "    </tr>\n",
       "    <tr>\n",
       "      <th>3</th>\n",
       "      <td>교육시설</td>\n",
       "      <td>42</td>\n",
       "    </tr>\n",
       "    <tr>\n",
       "      <th>4</th>\n",
       "      <td>문화시설</td>\n",
       "      <td>38</td>\n",
       "    </tr>\n",
       "  </tbody>\n",
       "</table>\n",
       "</div>"
      ],
      "text/plain": [
       "     활용용도  개수\n",
       "0   교육용시설  80\n",
       "1  교육연구시설  49\n",
       "2  소득증대시설  48\n",
       "3    교육시설  42\n",
       "4    문화시설  38"
      ]
     },
     "execution_count": 4,
     "metadata": {},
     "output_type": "execute_result"
    }
   ],
   "source": [
    "df = pd.read_csv('라벨.csv', encoding='euc-kr')\n",
    "df.head()"
   ]
  },
  {
   "cell_type": "code",
   "execution_count": 5,
   "id": "452fd66d-26d0-4f66-a362-8d834a77429d",
   "metadata": {},
   "outputs": [
    {
     "data": {
      "image/png": "[encoded data removed]",
      "text/plain": [
       "<Figure size 864x360 with 1 Axes>"
      ]
     },
     "metadata": {},
     "output_type": "display_data"
    }
   ],
   "source": [
    "plt.style.use('ggplot')\n",
    "plt.bar(df['활용용도'], df['개수'])\n",
    "plt.title('활용용도 분포 현황', fontsize=20)\n",
    "plt.xlabel('활용용도', fontsize=12)\n",
    "plt.ylabel('개수', fontsize=12)\n",
    "plt.xticks(rotation=90)\n",
    "plt.rc('font', family='Malgun Gothic')\n",
    "plt.show()"
   ]
  },
  {
   "cell_type": "code",
   "execution_count": 6,
   "id": "4e03c79d-5d96-4b70-8354-6972d89aaeee",
   "metadata": {},
   "outputs": [
    {
     "data": {
      "text/html": [
       "<div>\n",
       "<style scoped>\n",
       "    .dataframe tbody tr th:only-of-type {\n",
       "        vertical-align: middle;\n",
       "    }\n",
       "\n",
       "    .dataframe tbody tr th {\n",
       "        vertical-align: top;\n",
       "    }\n",
       "\n",
       "    .dataframe thead th {\n",
       "        text-align: right;\n",
       "    }\n",
       "</style>\n",
       "<table border=\"1\" class=\"dataframe\">\n",
       "  <thead>\n",
       "    <tr style=\"text-align: right;\">\n",
       "      <th></th>\n",
       "      <th>활용용도</th>\n",
       "      <th>개수</th>\n",
       "    </tr>\n",
       "  </thead>\n",
       "  <tbody>\n",
       "    <tr>\n",
       "      <th>0</th>\n",
       "      <td>학교</td>\n",
       "      <td>70</td>\n",
       "    </tr>\n",
       "    <tr>\n",
       "      <th>1</th>\n",
       "      <td>교육용시설</td>\n",
       "      <td>68</td>\n",
       "    </tr>\n",
       "    <tr>\n",
       "      <th>2</th>\n",
       "      <td>체험시설</td>\n",
       "      <td>67</td>\n",
       "    </tr>\n",
       "    <tr>\n",
       "      <th>3</th>\n",
       "      <td>농어촌시설</td>\n",
       "      <td>51</td>\n",
       "    </tr>\n",
       "    <tr>\n",
       "      <th>4</th>\n",
       "      <td>문화시설</td>\n",
       "      <td>35</td>\n",
       "    </tr>\n",
       "  </tbody>\n",
       "</table>\n",
       "</div>"
      ],
      "text/plain": [
       "    활용용도  개수\n",
       "0     학교  70\n",
       "1  교육용시설  68\n",
       "2   체험시설  67\n",
       "3  농어촌시설  51\n",
       "4   문화시설  35"
      ]
     },
     "execution_count": 6,
     "metadata": {},
     "output_type": "execute_result"
    }
   ],
   "source": [
    "df = pd.read_csv('라벨3.csv', encoding='euc-kr')\n",
    "df.head()"
   ]
  },
  {
   "cell_type": "code",
   "execution_count": 7,
   "id": "f2ea5299-c56e-44f3-9bc4-65f0bee4ef1d",
   "metadata": {},
   "outputs": [
    {
     "data": {
      "image/png": "[encoded data removed]",
      "text/plain": [
       "<Figure size 864x360 with 1 Axes>"
      ]
     },
     "metadata": {},
     "output_type": "display_data"
    }
   ],
   "source": [
    "plt.style.use('ggplot')\n",
    "plt.bar(df['활용용도'], df['개수'])\n",
    "plt.title('활용용도 분포 현황', fontsize=20)\n",
    "plt.xlabel('활용용도', fontsize=12)\n",
    "plt.ylabel('개수', fontsize=12)\n",
    "plt.xticks(rotation=90)\n",
    "plt.rc('font', family='Malgun Gothic')\n",
    "plt.show()"
   ]
  },
  {
   "cell_type": "code",
   "execution_count": null,
   "id": "689ab700-3411-4d9d-a150-ff4dc293cda6",
   "metadata": {},
   "outputs": [],
   "source": []
  }
 ],
 "metadata": {
  "kernelspec": {
   "display_name": "Python 3",
   "language": "python",
   "name": "python3"
  },
  "language_info": {
   "codemirror_mode": {
    "name": "ipython",
    "version": 3
   },
   "file_extension": ".py",
   "mimetype": "text/x-python",
   "name": "python",
   "nbconvert_exporter": "python",
   "pygments_lexer": "ipython3",
   "version": "3.8.8"
  }
 },
 "nbformat": 4,
 "nbformat_minor": 5
}
