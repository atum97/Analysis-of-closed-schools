{
 "cells": [
  {
   "cell_type": "code",
   "execution_count": 80,
   "id": "b0d99ed8-7ec7-4aa3-8ae9-0bc6913601df",
   "metadata": {},
   "outputs": [],
   "source": [
    "import pandas as pd\n",
    "import os\n",
    "import re\n",
    "import numpy as np\n",
    "os.chdir(r'C:\\Users\\user\\Desktop\\전처리 데이터')"
   ]
  },
  {
   "cell_type": "code",
   "execution_count": 2,
   "id": "2186542e-07ec-4901-8a72-8cff78009710",
   "metadata": {},
   "outputs": [
    {
     "data": {
      "text/plain": [
       "'C:\\\\Users\\\\user\\\\Desktop\\\\전처리 데이터'"
      ]
     },
     "execution_count": 2,
     "metadata": {},
     "output_type": "execute_result"
    }
   ],
   "source": [
    "os.getcwd()"
   ]
  },
  {
   "cell_type": "code",
   "execution_count": 3,
   "id": "949b1b02-de12-41d8-987a-31c51f9b2e74",
   "metadata": {},
   "outputs": [
    {
     "data": {
      "text/plain": [
       "['읍면동_법정코드.xlsx',\n",
       " '전국전통시장표준데이터_전처리.csv',\n",
       " '전통시장 전처리.csv',\n",
       " '폐교데이터_전처리_교육+소득증대.xlsx']"
      ]
     },
     "execution_count": 3,
     "metadata": {},
     "output_type": "execute_result"
    }
   ],
   "source": [
    "os.listdir('.')"
   ]
  },
  {
   "cell_type": "code",
   "execution_count": 40,
   "id": "6546ee47-386e-400a-bf10-3c3af97387af",
   "metadata": {},
   "outputs": [
    {
     "data": {
      "text/html": [
       "<div>\n",
       "<style scoped>\n",
       "    .dataframe tbody tr th:only-of-type {\n",
       "        vertical-align: middle;\n",
       "    }\n",
       "\n",
       "    .dataframe tbody tr th {\n",
       "        vertical-align: top;\n",
       "    }\n",
       "\n",
       "    .dataframe thead th {\n",
       "        text-align: right;\n",
       "    }\n",
       "</style>\n",
       "<table border=\"1\" class=\"dataframe\">\n",
       "  <thead>\n",
       "    <tr style=\"text-align: right;\">\n",
       "      <th></th>\n",
       "      <th>시장명</th>\n",
       "      <th>시장유형</th>\n",
       "      <th>소재지지번주소</th>\n",
       "      <th>점포수</th>\n",
       "      <th>공중화장실보유여부</th>\n",
       "      <th>주차장보유여부</th>\n",
       "      <th>개설연도</th>\n",
       "      <th>위도</th>\n",
       "      <th>경도</th>\n",
       "    </tr>\n",
       "  </thead>\n",
       "  <tbody>\n",
       "    <tr>\n",
       "      <th>0</th>\n",
       "      <td>강릉 중앙시장</td>\n",
       "      <td>상설장</td>\n",
       "      <td>강원도 강릉시 성남동 50</td>\n",
       "      <td>193.0</td>\n",
       "      <td>Y</td>\n",
       "      <td>Y</td>\n",
       "      <td>1980.0</td>\n",
       "      <td>37.754025</td>\n",
       "      <td>128.898624</td>\n",
       "    </tr>\n",
       "    <tr>\n",
       "      <th>1</th>\n",
       "      <td>강릉 성남시장</td>\n",
       "      <td>상설장</td>\n",
       "      <td>강원도 강릉시 성남동 53-8</td>\n",
       "      <td>128.0</td>\n",
       "      <td>Y</td>\n",
       "      <td>Y</td>\n",
       "      <td>2008.0</td>\n",
       "      <td>37.753737</td>\n",
       "      <td>128.899052</td>\n",
       "    </tr>\n",
       "    <tr>\n",
       "      <th>2</th>\n",
       "      <td>동부시장</td>\n",
       "      <td>상설장</td>\n",
       "      <td>강원도 강릉시 옥천동 223</td>\n",
       "      <td>171.0</td>\n",
       "      <td>Y</td>\n",
       "      <td>Y</td>\n",
       "      <td>1977.0</td>\n",
       "      <td>37.760048</td>\n",
       "      <td>128.900662</td>\n",
       "    </tr>\n",
       "    <tr>\n",
       "      <th>3</th>\n",
       "      <td>서부시장</td>\n",
       "      <td>상설장</td>\n",
       "      <td>강원도 강릉시 용강동 29</td>\n",
       "      <td>150.0</td>\n",
       "      <td>Y</td>\n",
       "      <td>Y</td>\n",
       "      <td>1977.0</td>\n",
       "      <td>37.755094</td>\n",
       "      <td>128.890799</td>\n",
       "    </tr>\n",
       "    <tr>\n",
       "      <th>4</th>\n",
       "      <td>주문진 건어물시장</td>\n",
       "      <td>상설장</td>\n",
       "      <td>강원도 강릉시 주문진읍 주문리 312-684</td>\n",
       "      <td>98.0</td>\n",
       "      <td>Y</td>\n",
       "      <td>Y</td>\n",
       "      <td>2008.0</td>\n",
       "      <td>37.890586</td>\n",
       "      <td>128.828782</td>\n",
       "    </tr>\n",
       "    <tr>\n",
       "      <th>...</th>\n",
       "      <td>...</td>\n",
       "      <td>...</td>\n",
       "      <td>...</td>\n",
       "      <td>...</td>\n",
       "      <td>...</td>\n",
       "      <td>...</td>\n",
       "      <td>...</td>\n",
       "      <td>...</td>\n",
       "      <td>...</td>\n",
       "    </tr>\n",
       "    <tr>\n",
       "      <th>2878</th>\n",
       "      <td>직지시장</td>\n",
       "      <td>상설장</td>\n",
       "      <td>충청북도?청주시?흥덕구?봉명동 472-6</td>\n",
       "      <td>60.0</td>\n",
       "      <td>Y</td>\n",
       "      <td>Y</td>\n",
       "      <td>1978.0</td>\n",
       "      <td>36.646579</td>\n",
       "      <td>127.466327</td>\n",
       "    </tr>\n",
       "    <tr>\n",
       "      <th>2879</th>\n",
       "      <td>남양시장</td>\n",
       "      <td>상설장</td>\n",
       "      <td>화성시 남양읍 남양리 1165-25 일원</td>\n",
       "      <td>434.0</td>\n",
       "      <td>Y</td>\n",
       "      <td>Y</td>\n",
       "      <td>NaN</td>\n",
       "      <td>37.209531</td>\n",
       "      <td>126.817209</td>\n",
       "    </tr>\n",
       "    <tr>\n",
       "      <th>2880</th>\n",
       "      <td>사강시장</td>\n",
       "      <td>상설장</td>\n",
       "      <td>화성시 송산면 사강리 631-21 일원</td>\n",
       "      <td>347.0</td>\n",
       "      <td>N</td>\n",
       "      <td>Y</td>\n",
       "      <td>NaN</td>\n",
       "      <td>37.213394</td>\n",
       "      <td>126.736918</td>\n",
       "    </tr>\n",
       "    <tr>\n",
       "      <th>2881</th>\n",
       "      <td>조암시장</td>\n",
       "      <td>상설장</td>\n",
       "      <td>화성시 우정읍 조암리 270-7 일원</td>\n",
       "      <td>400.0</td>\n",
       "      <td>N</td>\n",
       "      <td>Y</td>\n",
       "      <td>NaN</td>\n",
       "      <td>37.083500</td>\n",
       "      <td>126.818451</td>\n",
       "    </tr>\n",
       "    <tr>\n",
       "      <th>2882</th>\n",
       "      <td>발안만세시장</td>\n",
       "      <td>상설장</td>\n",
       "      <td>화성시 향남읍 평리 81-51 일원</td>\n",
       "      <td>214.0</td>\n",
       "      <td>N</td>\n",
       "      <td>Y</td>\n",
       "      <td>NaN</td>\n",
       "      <td>37.131416</td>\n",
       "      <td>126.909465</td>\n",
       "    </tr>\n",
       "  </tbody>\n",
       "</table>\n",
       "<p>2883 rows × 9 columns</p>\n",
       "</div>"
      ],
      "text/plain": [
       "            시장명 시장유형                   소재지지번주소    점포수 공중화장실보유여부 주차장보유여부  \\\n",
       "0       강릉 중앙시장  상설장            강원도 강릉시 성남동 50  193.0         Y       Y   \n",
       "1       강릉 성남시장  상설장          강원도 강릉시 성남동 53-8  128.0         Y       Y   \n",
       "2          동부시장  상설장           강원도 강릉시 옥천동 223  171.0         Y       Y   \n",
       "3          서부시장  상설장            강원도 강릉시 용강동 29  150.0         Y       Y   \n",
       "4     주문진 건어물시장  상설장  강원도 강릉시 주문진읍 주문리 312-684   98.0         Y       Y   \n",
       "...         ...  ...                       ...    ...       ...     ...   \n",
       "2878       직지시장  상설장    충청북도?청주시?흥덕구?봉명동 472-6   60.0         Y       Y   \n",
       "2879       남양시장  상설장    화성시 남양읍 남양리 1165-25 일원  434.0         Y       Y   \n",
       "2880       사강시장  상설장     화성시 송산면 사강리 631-21 일원  347.0         N       Y   \n",
       "2881       조암시장  상설장      화성시 우정읍 조암리 270-7 일원  400.0         N       Y   \n",
       "2882     발안만세시장  상설장       화성시 향남읍 평리 81-51 일원  214.0         N       Y   \n",
       "\n",
       "        개설연도         위도          경도  \n",
       "0     1980.0  37.754025  128.898624  \n",
       "1     2008.0  37.753737  128.899052  \n",
       "2     1977.0  37.760048  128.900662  \n",
       "3     1977.0  37.755094  128.890799  \n",
       "4     2008.0  37.890586  128.828782  \n",
       "...      ...        ...         ...  \n",
       "2878  1978.0  36.646579  127.466327  \n",
       "2879     NaN  37.209531  126.817209  \n",
       "2880     NaN  37.213394  126.736918  \n",
       "2881     NaN  37.083500  126.818451  \n",
       "2882     NaN  37.131416  126.909465  \n",
       "\n",
       "[2883 rows x 9 columns]"
      ]
     },
     "execution_count": 40,
     "metadata": {},
     "output_type": "execute_result"
    }
   ],
   "source": [
    "pd.read_csv('전국전통시장표준데이터_전처리.csv')"
   ]
  },
  {
   "cell_type": "code",
   "execution_count": 25,
   "id": "420e7c30-b187-47e8-9262-eba381463019",
   "metadata": {},
   "outputs": [
    {
     "data": {
      "text/html": [
       "<div>\n",
       "<style scoped>\n",
       "    .dataframe tbody tr th:only-of-type {\n",
       "        vertical-align: middle;\n",
       "    }\n",
       "\n",
       "    .dataframe tbody tr th {\n",
       "        vertical-align: top;\n",
       "    }\n",
       "\n",
       "    .dataframe thead th {\n",
       "        text-align: right;\n",
       "    }\n",
       "</style>\n",
       "<table border=\"1\" class=\"dataframe\">\n",
       "  <thead>\n",
       "    <tr style=\"text-align: right;\">\n",
       "      <th></th>\n",
       "      <th>시장명</th>\n",
       "      <th>소재지지번주소</th>\n",
       "      <th>점포수</th>\n",
       "    </tr>\n",
       "  </thead>\n",
       "  <tbody>\n",
       "    <tr>\n",
       "      <th>0</th>\n",
       "      <td>강릉 중앙시장</td>\n",
       "      <td>강원도 강릉시 성남동 50</td>\n",
       "      <td>193.0</td>\n",
       "    </tr>\n",
       "    <tr>\n",
       "      <th>1</th>\n",
       "      <td>강릉 성남시장</td>\n",
       "      <td>강원도 강릉시 성남동 53-8</td>\n",
       "      <td>128.0</td>\n",
       "    </tr>\n",
       "    <tr>\n",
       "      <th>2</th>\n",
       "      <td>동부시장</td>\n",
       "      <td>강원도 강릉시 옥천동 223</td>\n",
       "      <td>171.0</td>\n",
       "    </tr>\n",
       "    <tr>\n",
       "      <th>3</th>\n",
       "      <td>서부시장</td>\n",
       "      <td>강원도 강릉시 용강동 29</td>\n",
       "      <td>150.0</td>\n",
       "    </tr>\n",
       "    <tr>\n",
       "      <th>4</th>\n",
       "      <td>주문진 건어물시장</td>\n",
       "      <td>강원도 강릉시 주문진읍 주문리 312-684</td>\n",
       "      <td>98.0</td>\n",
       "    </tr>\n",
       "    <tr>\n",
       "      <th>...</th>\n",
       "      <td>...</td>\n",
       "      <td>...</td>\n",
       "      <td>...</td>\n",
       "    </tr>\n",
       "    <tr>\n",
       "      <th>2878</th>\n",
       "      <td>직지시장</td>\n",
       "      <td>충청북도?청주시?흥덕구?봉명동 472-6</td>\n",
       "      <td>60.0</td>\n",
       "    </tr>\n",
       "    <tr>\n",
       "      <th>2879</th>\n",
       "      <td>남양시장</td>\n",
       "      <td>화성시 남양읍 남양리 1165-25 일원</td>\n",
       "      <td>434.0</td>\n",
       "    </tr>\n",
       "    <tr>\n",
       "      <th>2880</th>\n",
       "      <td>사강시장</td>\n",
       "      <td>화성시 송산면 사강리 631-21 일원</td>\n",
       "      <td>347.0</td>\n",
       "    </tr>\n",
       "    <tr>\n",
       "      <th>2881</th>\n",
       "      <td>조암시장</td>\n",
       "      <td>화성시 우정읍 조암리 270-7 일원</td>\n",
       "      <td>400.0</td>\n",
       "    </tr>\n",
       "    <tr>\n",
       "      <th>2882</th>\n",
       "      <td>발안만세시장</td>\n",
       "      <td>화성시 향남읍 평리 81-51 일원</td>\n",
       "      <td>214.0</td>\n",
       "    </tr>\n",
       "  </tbody>\n",
       "</table>\n",
       "<p>2883 rows × 3 columns</p>\n",
       "</div>"
      ],
      "text/plain": [
       "            시장명                   소재지지번주소    점포수\n",
       "0       강릉 중앙시장            강원도 강릉시 성남동 50  193.0\n",
       "1       강릉 성남시장          강원도 강릉시 성남동 53-8  128.0\n",
       "2          동부시장           강원도 강릉시 옥천동 223  171.0\n",
       "3          서부시장            강원도 강릉시 용강동 29  150.0\n",
       "4     주문진 건어물시장  강원도 강릉시 주문진읍 주문리 312-684   98.0\n",
       "...         ...                       ...    ...\n",
       "2878       직지시장    충청북도?청주시?흥덕구?봉명동 472-6   60.0\n",
       "2879       남양시장    화성시 남양읍 남양리 1165-25 일원  434.0\n",
       "2880       사강시장     화성시 송산면 사강리 631-21 일원  347.0\n",
       "2881       조암시장      화성시 우정읍 조암리 270-7 일원  400.0\n",
       "2882     발안만세시장       화성시 향남읍 평리 81-51 일원  214.0\n",
       "\n",
       "[2883 rows x 3 columns]"
      ]
     },
     "execution_count": 25,
     "metadata": {},
     "output_type": "execute_result"
    }
   ],
   "source": [
    "df = pd.read_csv('전국전통시장표준데이터_전처리.csv',\n",
    "                usecols = [0,2,3],\n",
    "                )\n",
    "df"
   ]
  },
  {
   "cell_type": "code",
   "execution_count": 43,
   "id": "a03b43e5-19eb-4318-9fb8-3a8a0cdb53e8",
   "metadata": {},
   "outputs": [
    {
     "data": {
      "text/plain": [
       "0                 강원도 강릉시 성남동 50\n",
       "1               강원도 강릉시 성남동 53-8\n",
       "2                강원도 강릉시 옥천동 223\n",
       "3                 강원도 강릉시 용강동 29\n",
       "4       강원도 강릉시 주문진읍 주문리 312-684\n",
       "                  ...           \n",
       "2878      충청북도?청주시?흥덕구?봉명동 472-6\n",
       "2879      화성시 남양읍 남양리 1165-25 일원\n",
       "2880       화성시 송산면 사강리 631-21 일원\n",
       "2881        화성시 우정읍 조암리 270-7 일원\n",
       "2882         화성시 향남읍 평리 81-51 일원\n",
       "Name: 소재지지번주소, Length: 2883, dtype: object"
      ]
     },
     "execution_count": 43,
     "metadata": {},
     "output_type": "execute_result"
    }
   ],
   "source": [
    "df['소재지지번주소']"
   ]
  },
  {
   "cell_type": "code",
   "execution_count": 55,
   "id": "4becd143-dc91-46dc-a7f8-da5145b83033",
   "metadata": {},
   "outputs": [
    {
     "data": {
      "text/plain": [
       "str"
      ]
     },
     "execution_count": 55,
     "metadata": {},
     "output_type": "execute_result"
    }
   ],
   "source": [
    "region_str = str(df['소재지지번주소'])\n",
    "\n",
    "type(region_str)"
   ]
  },
  {
   "cell_type": "code",
   "execution_count": 56,
   "id": "35af486b-ded6-46bf-8ff9-f6a2249c3d16",
   "metadata": {
    "scrolled": true,
    "tags": []
   },
   "outputs": [
    {
     "data": {
      "text/plain": [
       "['0',\n",
       " '강원도',\n",
       " '강릉시',\n",
       " '성남동',\n",
       " '50',\n",
       " '1',\n",
       " '강원도',\n",
       " '강릉시',\n",
       " '성남동',\n",
       " '53-8',\n",
       " '2',\n",
       " '강원도',\n",
       " '강릉시',\n",
       " '옥천동',\n",
       " '223',\n",
       " '3',\n",
       " '강원도',\n",
       " '강릉시',\n",
       " '용강동',\n",
       " '29',\n",
       " '4',\n",
       " '강원도',\n",
       " '강릉시',\n",
       " '주문진읍',\n",
       " '주문리',\n",
       " '312-684',\n",
       " '...',\n",
       " '2878',\n",
       " '충청북도?청주시?흥덕구?봉명동',\n",
       " '472-6',\n",
       " '2879',\n",
       " '화성시',\n",
       " '남양읍',\n",
       " '남양리',\n",
       " '1165-25',\n",
       " '일원',\n",
       " '2880',\n",
       " '화성시',\n",
       " '송산면',\n",
       " '사강리',\n",
       " '631-21',\n",
       " '일원',\n",
       " '2881',\n",
       " '화성시',\n",
       " '우정읍',\n",
       " '조암리',\n",
       " '270-7',\n",
       " '일원',\n",
       " '2882',\n",
       " '화성시',\n",
       " '향남읍',\n",
       " '평리',\n",
       " '81-51',\n",
       " '일원',\n",
       " 'Name:',\n",
       " '소재지지번주소,',\n",
       " 'Length:',\n",
       " '2883,',\n",
       " 'dtype:',\n",
       " 'object']"
      ]
     },
     "execution_count": 56,
     "metadata": {},
     "output_type": "execute_result"
    }
   ],
   "source": [
    "region_str.split()"
   ]
  },
  {
   "cell_type": "code",
   "execution_count": 58,
   "id": "f4b79c25-962e-4f92-884e-0ed8e95477a0",
   "metadata": {},
   "outputs": [
    {
     "data": {
      "text/plain": [
       "'0                 강원도 강릉시 성남동 50\\n1               강원도 강릉시 성남동 53-8\\n2                강원도 강릉시 옥천동 223\\n3                 강원도 강릉시 용강동 29\\n4       강원도 강릉시 주문진읍 주문리 312-684\\n                  ...           \\n2878      충청북도?청주시?흥덕구?봉명동 472-6\\n2879      화성시 남양읍 남양리 1165-25 일원\\n2880       화성시 송산면 사강리 631-21 일원\\n2881        화성시 우정읍 조암리 270-7 일원\\n2882         화성시 향남읍 평리 81-51 일원\\nName: 소재지지번주소, Length: 2883, dtype: object'"
      ]
     },
     "execution_count": 58,
     "metadata": {},
     "output_type": "execute_result"
    }
   ],
   "source": [
    "region_str"
   ]
  },
  {
   "cell_type": "code",
   "execution_count": 78,
   "id": "28999cab-2d69-465b-9f45-417576575916",
   "metadata": {},
   "outputs": [
    {
     "data": {
      "text/plain": [
       "'                 강원도 강릉시 성남동 \\n               강원도 강릉시 성남동 \\n                강원도 강릉시 옥천동 \\n                 강원도 강릉시 용강동 \\n       강원도 강릉시 주문진읍 주문리 \\n                             \\n      충청북도청주시흥덕구봉명동 \\n      화성시 남양읍 남양리  일원\\n       화성시 송산면 사강리  일원\\n        화성시 우정읍 조암리  일원\\n         화성시 향남읍 평리  일원\\nName: 소재지지번주소 Length:  dtype: object'"
      ]
     },
     "execution_count": 78,
     "metadata": {},
     "output_type": "execute_result"
    }
   ],
   "source": [
    "region1 = re.sub(\"[?!-0123456789]\", \"\", region_str)\n",
    "region1"
   ]
  },
  {
   "cell_type": "code",
   "execution_count": 79,
   "id": "1180ecce-bec5-4540-808c-69bf138a50ee",
   "metadata": {},
   "outputs": [
    {
     "ename": "AttributeError",
     "evalue": "'str' object has no attribute 'to_csv'",
     "output_type": "error",
     "traceback": [
      "\u001b[1;31m---------------------------------------------------------------------------\u001b[0m",
      "\u001b[1;31mAttributeError\u001b[0m                            Traceback (most recent call last)",
      "\u001b[1;32m<ipython-input-79-a03225b95101>\u001b[0m in \u001b[0;36m<module>\u001b[1;34m\u001b[0m\n\u001b[1;32m----> 1\u001b[1;33m \u001b[0mregion1\u001b[0m\u001b[1;33m.\u001b[0m\u001b[0mto_csv\u001b[0m\u001b[1;33m(\u001b[0m\u001b[1;34m\"지역.csv\"\u001b[0m\u001b[1;33m,\u001b[0m \u001b[0msep\u001b[0m\u001b[1;33m=\u001b[0m\u001b[1;34m\"\"\u001b[0m\u001b[1;33m,\u001b[0m \u001b[0mindex\u001b[0m\u001b[1;33m=\u001b[0m\u001b[1;32mTrue\u001b[0m\u001b[1;33m)\u001b[0m\u001b[1;33m\u001b[0m\u001b[1;33m\u001b[0m\u001b[0m\n\u001b[0m",
      "\u001b[1;31mAttributeError\u001b[0m: 'str' object has no attribute 'to_csv'"
     ]
    }
   ],
   "source": [
    "region1.to_csv(\"지역.csv\", sep=\"\", index=True)"
   ]
  },
  {
   "cell_type": "code",
   "execution_count": 83,
   "id": "ad30886d-715f-4b21-844d-7d908325ce50",
   "metadata": {},
   "outputs": [
    {
     "ename": "ValueError",
     "evalue": "Expected 1D or 2D array, got 0D array instead",
     "output_type": "error",
     "traceback": [
      "\u001b[1;31m---------------------------------------------------------------------------\u001b[0m",
      "\u001b[1;31mValueError\u001b[0m                                Traceback (most recent call last)",
      "\u001b[1;32m<ipython-input-83-a0265417cb53>\u001b[0m in \u001b[0;36m<module>\u001b[1;34m\u001b[0m\n\u001b[1;32m----> 1\u001b[1;33m \u001b[0mnp\u001b[0m\u001b[1;33m.\u001b[0m\u001b[0msavetxt\u001b[0m\u001b[1;33m(\u001b[0m\u001b[1;34m'region.csv'\u001b[0m\u001b[1;33m,\u001b[0m \u001b[0mregion1\u001b[0m\u001b[1;33m)\u001b[0m\u001b[1;33m\u001b[0m\u001b[1;33m\u001b[0m\u001b[0m\n\u001b[0m",
      "\u001b[1;32m<__array_function__ internals>\u001b[0m in \u001b[0;36msavetxt\u001b[1;34m(*args, **kwargs)\u001b[0m\n",
      "\u001b[1;32m~\\anaconda3\\lib\\site-packages\\numpy\\lib\\npyio.py\u001b[0m in \u001b[0;36msavetxt\u001b[1;34m(fname, X, fmt, delimiter, newline, header, footer, comments, encoding)\u001b[0m\n\u001b[0;32m   1378\u001b[0m         \u001b[1;31m# Handle 1-dimensional arrays\u001b[0m\u001b[1;33m\u001b[0m\u001b[1;33m\u001b[0m\u001b[1;33m\u001b[0m\u001b[0m\n\u001b[0;32m   1379\u001b[0m         \u001b[1;32mif\u001b[0m \u001b[0mX\u001b[0m\u001b[1;33m.\u001b[0m\u001b[0mndim\u001b[0m \u001b[1;33m==\u001b[0m \u001b[1;36m0\u001b[0m \u001b[1;32mor\u001b[0m \u001b[0mX\u001b[0m\u001b[1;33m.\u001b[0m\u001b[0mndim\u001b[0m \u001b[1;33m>\u001b[0m \u001b[1;36m2\u001b[0m\u001b[1;33m:\u001b[0m\u001b[1;33m\u001b[0m\u001b[1;33m\u001b[0m\u001b[0m\n\u001b[1;32m-> 1380\u001b[1;33m             raise ValueError(\n\u001b[0m\u001b[0;32m   1381\u001b[0m                 \"Expected 1D or 2D array, got %dD array instead\" % X.ndim)\n\u001b[0;32m   1382\u001b[0m         \u001b[1;32melif\u001b[0m \u001b[0mX\u001b[0m\u001b[1;33m.\u001b[0m\u001b[0mndim\u001b[0m \u001b[1;33m==\u001b[0m \u001b[1;36m1\u001b[0m\u001b[1;33m:\u001b[0m\u001b[1;33m\u001b[0m\u001b[1;33m\u001b[0m\u001b[0m\n",
      "\u001b[1;31mValueError\u001b[0m: Expected 1D or 2D array, got 0D array instead"
     ]
    }
   ],
   "source": [
    "np.savetxt('region.csv', region1, fmt='%d')"
   ]
  }
 ],
 "metadata": {
  "kernelspec": {
   "display_name": "Python 3",
   "language": "python",
   "name": "python3"
  },
  "language_info": {
   "codemirror_mode": {
    "name": "ipython",
    "version": 3
   },
   "file_extension": ".py",
   "mimetype": "text/x-python",
   "name": "python",
   "nbconvert_exporter": "python",
   "pygments_lexer": "ipython3",
   "version": "3.8.8"
  }
 },
 "nbformat": 4,
 "nbformat_minor": 5
}
