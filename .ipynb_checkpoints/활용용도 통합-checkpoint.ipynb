{
 "cells": [
  {
   "cell_type": "code",
   "execution_count": 29,
   "id": "05390ad4-ffba-4f2b-8f64-f0cbee45162a",
   "metadata": {},
   "outputs": [],
   "source": [
    "import pandas as pd\n",
    "import seaborn as sns\n",
    "import missingno as msno\n",
    "import matplotlib.pyplot as plt\n",
    "import os\n",
    "import matplotlib.font_manager as fm\n",
    "\n",
    "os.chdir(r'C:\\Users\\user\\Desktop\\전처리 데이터')"
   ]
  },
  {
   "cell_type": "code",
   "execution_count": 22,
   "id": "ab1d0429-69ac-4378-847f-9ad59f57858f",
   "metadata": {},
   "outputs": [],
   "source": [
    "from matplotlib import font_manager, rc\n",
    "font_path = \"C:/Windows/Fonts/H2GTRM.TTF\"\n",
    "font = font_manager.FontProperties(fname=font_path).get_name()\n",
    "rc('font', family=font)"
   ]
  },
  {
   "cell_type": "code",
   "execution_count": 24,
   "id": "a5de04f3-83d1-43c1-9125-20ac97ee3a9c",
   "metadata": {},
   "outputs": [],
   "source": [
    "plt.rcParams['figure.figsize'] = [12,5]"
   ]
  },
  {
   "cell_type": "code",
   "execution_count": null,
   "id": "4c065694-5ff1-4731-b89a-84ae36d335a5",
   "metadata": {},
   "outputs": [],
   "source": [
    "font_list = fm.findSystemFonts(fontpaths=None, fontext='ttf')"
   ]
  },
  {
   "cell_type": "code",
   "execution_count": 14,
   "id": "47e717f0-feb4-4368-a215-d0f9964ad83a",
   "metadata": {},
   "outputs": [
    {
     "data": {
      "text/plain": [
       "['.RData',\n",
       " '.Rhistory',\n",
       " 'df_analysis(아동청소년).csv',\n",
       " 'df_analysis_면적.csv',\n",
       " 'old_school_sgg.xlsx',\n",
       " 'old_school_umd.xlsx',\n",
       " 'old_school_umd_원본.xlsx',\n",
       " 'Preprocessing_sgg.xlsx',\n",
       " 'Preprocessing_umd.xlsx',\n",
       " 'test.csv',\n",
       " '개발제한구역_활용현황_전처리완료.csv',\n",
       " '경상_시군구_비율_정제.xlsx',\n",
       " '경상_읍면동_비율_정제.xlsx',\n",
       " '경상_활용용도_현황.csv',\n",
       " '농기계임대장 현황_경상도_시도.csv',\n",
       " '농기계임대장 현황_전국_시도.csv',\n",
       " '시군구_법정코드.xlsx',\n",
       " '읍면동_법정코드.xlsx',\n",
       " '읍면동_인구수_전처리.xlsx',\n",
       " '인구통합',\n",
       " '전국농기계임대정보표준데이터.csv',\n",
       " '전국농어촌체험휴양마을표준데이터_전처리.csv',\n",
       " '전국농어촌체험휴양마을표준데이터_최종.csv',\n",
       " '전통시장통계_시군구_최종.csv',\n",
       " '폐교데이터_전처리_교육+소득증대.xlsx',\n",
       " '폐교데이터_전처리_완성.xlsx',\n",
       " '행정_읍면_코드.xlsx']"
      ]
     },
     "execution_count": 14,
     "metadata": {},
     "output_type": "execute_result"
    }
   ],
   "source": [
    "os.listdir()"
   ]
  },
  {
   "cell_type": "code",
   "execution_count": 5,
   "id": "d7e4424a-9a68-4be6-baa2-00f920b51d93",
   "metadata": {},
   "outputs": [
    {
     "data": {
      "text/html": [
       "<div>\n",
       "<style scoped>\n",
       "    .dataframe tbody tr th:only-of-type {\n",
       "        vertical-align: middle;\n",
       "    }\n",
       "\n",
       "    .dataframe tbody tr th {\n",
       "        vertical-align: top;\n",
       "    }\n",
       "\n",
       "    .dataframe thead th {\n",
       "        text-align: right;\n",
       "    }\n",
       "</style>\n",
       "<table border=\"1\" class=\"dataframe\">\n",
       "  <thead>\n",
       "    <tr style=\"text-align: right;\">\n",
       "      <th></th>\n",
       "      <th>임의고유번호</th>\n",
       "      <th>법정동코드_시군구</th>\n",
       "      <th>법정동명_시군구</th>\n",
       "      <th>법정동코드_읍면동</th>\n",
       "      <th>법정동명_읍면동</th>\n",
       "      <th>세부주소</th>\n",
       "      <th>폐교명</th>\n",
       "      <th>급별</th>\n",
       "      <th>폐교년도</th>\n",
       "      <th>건물연면적</th>\n",
       "      <th>...</th>\n",
       "      <th>아동</th>\n",
       "      <th>청소년</th>\n",
       "      <th>청년</th>\n",
       "      <th>중장년</th>\n",
       "      <th>노년</th>\n",
       "      <th>공공_기타시설_개당면적</th>\n",
       "      <th>공공_문화시설_개당면적</th>\n",
       "      <th>공공_복지시설_개당면적</th>\n",
       "      <th>공공_체육시설_개당면적</th>\n",
       "      <th>공원_개당면적</th>\n",
       "    </tr>\n",
       "  </thead>\n",
       "  <tbody>\n",
       "    <tr>\n",
       "      <th>0</th>\n",
       "      <td>609</td>\n",
       "      <td>4711100000</td>\n",
       "      <td>경상북도 포항시 남구</td>\n",
       "      <td>4711125000</td>\n",
       "      <td>경상북도 포항시 남구 구룡포읍</td>\n",
       "      <td>병포리 139-1</td>\n",
       "      <td>구룡포여종고</td>\n",
       "      <td>고</td>\n",
       "      <td>2012</td>\n",
       "      <td>5350.45</td>\n",
       "      <td>...</td>\n",
       "      <td>0.017563</td>\n",
       "      <td>0.031748</td>\n",
       "      <td>0.114293</td>\n",
       "      <td>0.424750</td>\n",
       "      <td>0.411646</td>\n",
       "      <td>5071</td>\n",
       "      <td>0</td>\n",
       "      <td>0</td>\n",
       "      <td>0.0</td>\n",
       "      <td>729.000000</td>\n",
       "    </tr>\n",
       "    <tr>\n",
       "      <th>1</th>\n",
       "      <td>610</td>\n",
       "      <td>4711100000</td>\n",
       "      <td>경상북도 포항시 남구</td>\n",
       "      <td>4711135000</td>\n",
       "      <td>경상북도 포항시 남구 호미곶면</td>\n",
       "      <td>대동배리 410-1 외</td>\n",
       "      <td>대보초 대동배분교</td>\n",
       "      <td>초</td>\n",
       "      <td>2007</td>\n",
       "      <td>345.60</td>\n",
       "      <td>...</td>\n",
       "      <td>0.015983</td>\n",
       "      <td>0.037294</td>\n",
       "      <td>0.092168</td>\n",
       "      <td>0.401705</td>\n",
       "      <td>0.452850</td>\n",
       "      <td>0</td>\n",
       "      <td>5447</td>\n",
       "      <td>0</td>\n",
       "      <td>0.0</td>\n",
       "      <td>0.000000</td>\n",
       "    </tr>\n",
       "    <tr>\n",
       "      <th>2</th>\n",
       "      <td>611</td>\n",
       "      <td>4711300000</td>\n",
       "      <td>경상북도 포항시 북구</td>\n",
       "      <td>4711311600</td>\n",
       "      <td>경상북도 포항시 북구 죽도동</td>\n",
       "      <td>655-9</td>\n",
       "      <td>대신초</td>\n",
       "      <td>초</td>\n",
       "      <td>2000</td>\n",
       "      <td>0.00</td>\n",
       "      <td>...</td>\n",
       "      <td>0.039270</td>\n",
       "      <td>0.045689</td>\n",
       "      <td>0.236220</td>\n",
       "      <td>0.411254</td>\n",
       "      <td>0.267566</td>\n",
       "      <td>0</td>\n",
       "      <td>0</td>\n",
       "      <td>0</td>\n",
       "      <td>0.0</td>\n",
       "      <td>241.346939</td>\n",
       "    </tr>\n",
       "    <tr>\n",
       "      <th>3</th>\n",
       "      <td>612</td>\n",
       "      <td>4711300000</td>\n",
       "      <td>경상북도 포항시 북구</td>\n",
       "      <td>4711312300</td>\n",
       "      <td>경상북도 포항시 북구 환호동</td>\n",
       "      <td>13-7</td>\n",
       "      <td>대양초</td>\n",
       "      <td>초</td>\n",
       "      <td>2001</td>\n",
       "      <td>1247.80</td>\n",
       "      <td>...</td>\n",
       "      <td>0.090938</td>\n",
       "      <td>0.119428</td>\n",
       "      <td>0.217094</td>\n",
       "      <td>0.415055</td>\n",
       "      <td>0.157485</td>\n",
       "      <td>0</td>\n",
       "      <td>8008</td>\n",
       "      <td>0</td>\n",
       "      <td>0.0</td>\n",
       "      <td>32662.500000</td>\n",
       "    </tr>\n",
       "    <tr>\n",
       "      <th>4</th>\n",
       "      <td>613</td>\n",
       "      <td>4711100000</td>\n",
       "      <td>경상북도 포항시 남구</td>\n",
       "      <td>4711132000</td>\n",
       "      <td>경상북도 포항시 남구 동해면</td>\n",
       "      <td>흥환리 357 외</td>\n",
       "      <td>동해초 흥환분교</td>\n",
       "      <td>초</td>\n",
       "      <td>2013</td>\n",
       "      <td>936.38</td>\n",
       "      <td>...</td>\n",
       "      <td>0.054503</td>\n",
       "      <td>0.077832</td>\n",
       "      <td>0.193765</td>\n",
       "      <td>0.412897</td>\n",
       "      <td>0.261002</td>\n",
       "      <td>0</td>\n",
       "      <td>82637</td>\n",
       "      <td>0</td>\n",
       "      <td>0.0</td>\n",
       "      <td>7014.840000</td>\n",
       "    </tr>\n",
       "  </tbody>\n",
       "</table>\n",
       "<p>5 rows × 32 columns</p>\n",
       "</div>"
      ],
      "text/plain": [
       "   임의고유번호   법정동코드_시군구     법정동명_시군구   법정동코드_읍면동          법정동명_읍면동  \\\n",
       "0     609  4711100000  경상북도 포항시 남구  4711125000  경상북도 포항시 남구 구룡포읍   \n",
       "1     610  4711100000  경상북도 포항시 남구  4711135000  경상북도 포항시 남구 호미곶면   \n",
       "2     611  4711300000  경상북도 포항시 북구  4711311600   경상북도 포항시 북구 죽도동   \n",
       "3     612  4711300000  경상북도 포항시 북구  4711312300   경상북도 포항시 북구 환호동   \n",
       "4     613  4711100000  경상북도 포항시 남구  4711132000   경상북도 포항시 남구 동해면   \n",
       "\n",
       "           세부주소        폐교명 급별  폐교년도    건물연면적  ...        아동       청소년  \\\n",
       "0     병포리 139-1     구룡포여종고  고  2012  5350.45  ...  0.017563  0.031748   \n",
       "1  대동배리 410-1 외  대보초 대동배분교  초  2007   345.60  ...  0.015983  0.037294   \n",
       "2         655-9        대신초  초  2000     0.00  ...  0.039270  0.045689   \n",
       "3          13-7        대양초  초  2001  1247.80  ...  0.090938  0.119428   \n",
       "4     흥환리 357 외   동해초 흥환분교  초  2013   936.38  ...  0.054503  0.077832   \n",
       "\n",
       "         청년       중장년        노년 공공_기타시설_개당면적  공공_문화시설_개당면적  공공_복지시설_개당면적  \\\n",
       "0  0.114293  0.424750  0.411646         5071             0             0   \n",
       "1  0.092168  0.401705  0.452850            0          5447             0   \n",
       "2  0.236220  0.411254  0.267566            0             0             0   \n",
       "3  0.217094  0.415055  0.157485            0          8008             0   \n",
       "4  0.193765  0.412897  0.261002            0         82637             0   \n",
       "\n",
       "   공공_체육시설_개당면적       공원_개당면적  \n",
       "0           0.0    729.000000  \n",
       "1           0.0      0.000000  \n",
       "2           0.0    241.346939  \n",
       "3           0.0  32662.500000  \n",
       "4           0.0   7014.840000  \n",
       "\n",
       "[5 rows x 32 columns]"
      ]
     },
     "execution_count": 5,
     "metadata": {},
     "output_type": "execute_result"
    }
   ],
   "source": [
    "df = pd.read_excel('경상_읍면동_비율_정제.xlsx')\n",
    "df.head()"
   ]
  },
  {
   "cell_type": "code",
   "execution_count": 6,
   "id": "84a5b106-111d-4006-8e9f-51a643ee986c",
   "metadata": {},
   "outputs": [
    {
     "data": {
      "text/plain": [
       "Index(['임의고유번호', '법정동코드_시군구', '법정동명_시군구', '법정동코드_읍면동', '법정동명_읍면동', '세부주소',\n",
       "       '폐교명', '급별', '폐교년도', '건물연면적', '대지규모', '건물대장가격', '대지대장가격', '총가격', '활용유형',\n",
       "       '활용용도', '관광지', '기타문화공간', '레포츠', '문화시설', '체험마을수_읍면동', '노인회관수_읍면동', '아동',\n",
       "       '청소년', '청년', '중장년', '노년', '공공_기타시설_개당면적', '공공_문화시설_개당면적',\n",
       "       '공공_복지시설_개당면적', '공공_체육시설_개당면적', '공원_개당면적'],\n",
       "      dtype='object')"
      ]
     },
     "execution_count": 6,
     "metadata": {},
     "output_type": "execute_result"
    }
   ],
   "source": [
    "df.columns"
   ]
  },
  {
   "cell_type": "code",
   "execution_count": 12,
   "id": "604790df-d66b-46a7-996d-b48792b9a333",
   "metadata": {},
   "outputs": [
    {
     "data": {
      "text/plain": [
       "학교             75\n",
       "체험시설           56\n",
       "교육용시설          48\n",
       "소득증대시설         46\n",
       "문화시설           39\n",
       "사회복지시설         36\n",
       "기타시설           34\n",
       "공공체육시설          3\n",
       "귀농어ㆍ귀촌 지원시설     2\n",
       "Name: 활용용도, dtype: int64"
      ]
     },
     "execution_count": 12,
     "metadata": {},
     "output_type": "execute_result"
    }
   ],
   "source": [
    "df = df['활용용도'].value_counts()\n",
    "df"
   ]
  },
  {
   "cell_type": "code",
   "execution_count": 13,
   "id": "fa5e3570-18c4-4771-b7eb-6c4d7a8cf509",
   "metadata": {},
   "outputs": [],
   "source": [
    "df.to_csv('경상_활용용도_현황.csv', encoding='euc-kr')"
   ]
  },
  {
   "cell_type": "markdown",
   "id": "aab41c53-77b5-421f-b6e5-e605d8579aa8",
   "metadata": {},
   "source": [
    "## 활용용도 현황 시각화"
   ]
  },
  {
   "cell_type": "code",
   "execution_count": 17,
   "id": "4646ed2e-b9dd-41d6-af08-33f849b58e47",
   "metadata": {},
   "outputs": [
    {
     "data": {
      "text/html": [
       "<div>\n",
       "<style scoped>\n",
       "    .dataframe tbody tr th:only-of-type {\n",
       "        vertical-align: middle;\n",
       "    }\n",
       "\n",
       "    .dataframe tbody tr th {\n",
       "        vertical-align: top;\n",
       "    }\n",
       "\n",
       "    .dataframe thead th {\n",
       "        text-align: right;\n",
       "    }\n",
       "</style>\n",
       "<table border=\"1\" class=\"dataframe\">\n",
       "  <thead>\n",
       "    <tr style=\"text-align: right;\">\n",
       "      <th></th>\n",
       "      <th>활용용도</th>\n",
       "      <th>개수</th>\n",
       "    </tr>\n",
       "  </thead>\n",
       "  <tbody>\n",
       "    <tr>\n",
       "      <th>0</th>\n",
       "      <td>학교</td>\n",
       "      <td>75</td>\n",
       "    </tr>\n",
       "    <tr>\n",
       "      <th>1</th>\n",
       "      <td>체험시설</td>\n",
       "      <td>56</td>\n",
       "    </tr>\n",
       "    <tr>\n",
       "      <th>2</th>\n",
       "      <td>교육용시설</td>\n",
       "      <td>48</td>\n",
       "    </tr>\n",
       "    <tr>\n",
       "      <th>3</th>\n",
       "      <td>소득증대시설</td>\n",
       "      <td>46</td>\n",
       "    </tr>\n",
       "    <tr>\n",
       "      <th>4</th>\n",
       "      <td>문화시설</td>\n",
       "      <td>39</td>\n",
       "    </tr>\n",
       "    <tr>\n",
       "      <th>5</th>\n",
       "      <td>사회복지시설</td>\n",
       "      <td>36</td>\n",
       "    </tr>\n",
       "    <tr>\n",
       "      <th>6</th>\n",
       "      <td>기타시설</td>\n",
       "      <td>34</td>\n",
       "    </tr>\n",
       "    <tr>\n",
       "      <th>7</th>\n",
       "      <td>공공체육시설</td>\n",
       "      <td>3</td>\n",
       "    </tr>\n",
       "    <tr>\n",
       "      <th>8</th>\n",
       "      <td>귀농어ㆍ귀촌 지원시설</td>\n",
       "      <td>2</td>\n",
       "    </tr>\n",
       "  </tbody>\n",
       "</table>\n",
       "</div>"
      ],
      "text/plain": [
       "          활용용도  개수\n",
       "0           학교  75\n",
       "1         체험시설  56\n",
       "2        교육용시설  48\n",
       "3       소득증대시설  46\n",
       "4         문화시설  39\n",
       "5       사회복지시설  36\n",
       "6         기타시설  34\n",
       "7       공공체육시설   3\n",
       "8  귀농어ㆍ귀촌 지원시설   2"
      ]
     },
     "execution_count": 17,
     "metadata": {},
     "output_type": "execute_result"
    }
   ],
   "source": [
    "df = pd.read_csv('경상_활용용도_현황.csv', encoding='euc-kr')\n",
    "df"
   ]
  },
  {
   "cell_type": "code",
   "execution_count": 26,
   "id": "07f7aca1-5218-4024-b3c5-1a5f3953446a",
   "metadata": {},
   "outputs": [
    {
     "data": {
      "text/plain": [
       "Text(0.5, 1.0, '활용용도 분포 현황')"
      ]
     },
     "execution_count": 26,
     "metadata": {},
     "output_type": "execute_result"
    },
    {
     "data": {
      "image/png": "[encoded data removed]",
      "text/plain": [
       "<Figure size 864x360 with 1 Axes>"
      ]
     },
     "metadata": {
      "needs_background": "light"
     },
     "output_type": "display_data"
    }
   ],
   "source": [
    "sns.barplot(x=df['활용용도'], y=df['개수']).set_title('활용용도 분포 현황')"
   ]
  },
  {
   "cell_type": "code",
   "execution_count": 20,
   "id": "51caf860-b2e1-46fd-88e1-e0aa73690fe7",
   "metadata": {},
   "outputs": [
    {
     "data": {
      "text/plain": [
       "Index(['활용용도', '개수'], dtype='object')"
      ]
     },
     "execution_count": 20,
     "metadata": {},
     "output_type": "execute_result"
    }
   ],
   "source": [
    "df.columns"
   ]
  },
  {
   "cell_type": "code",
   "execution_count": 37,
   "id": "91791da2-25c5-45fd-ba24-2e0a379561b8",
   "metadata": {},
   "outputs": [
    {
     "data": {
      "image/png": "[encoded data removed]",
      "text/plain": [
       "<Figure size 864x360 with 1 Axes>"
      ]
     },
     "metadata": {},
     "output_type": "display_data"
    }
   ],
   "source": [
    "plt.style.use('ggplot')\n",
    "plt.bar(df['활용용도'], df['개수'])\n",
    "plt.title('활용용도 분포 현황', fontsize=20)\n",
    "plt.xlabel('활용용도', fontsize=12)\n",
    "plt.ylabel('개수', fontsize=12)\n",
    "plt.xticks(rotation=90)\n",
    "plt.rc('font', family='Malgun Gothic')\n",
    "plt.show()"
   ]
  },
  {
   "cell_type": "code",
   "execution_count": 30,
   "id": "9c94ae15-c44a-46f6-8943-323c850ca9ec",
   "metadata": {},
   "outputs": [],
   "source": [
    "font_list = fm.findSystemFonts(fontpaths=None, fontext='ttf')"
   ]
  },
  {
   "cell_type": "markdown",
   "id": "bd0d6e66-1a89-4b07-8ece-f0b86eeb76a3",
   "metadata": {},
   "source": [
    "## 활용용도 새로 정제 "
   ]
  },
  {
   "cell_type": "code",
   "execution_count": 42,
   "id": "d6e8dd59-88f4-48b0-8819-0593778f7f83",
   "metadata": {},
   "outputs": [
    {
     "data": {
      "text/html": [
       "<div>\n",
       "<style scoped>\n",
       "    .dataframe tbody tr th:only-of-type {\n",
       "        vertical-align: middle;\n",
       "    }\n",
       "\n",
       "    .dataframe tbody tr th {\n",
       "        vertical-align: top;\n",
       "    }\n",
       "\n",
       "    .dataframe thead th {\n",
       "        text-align: right;\n",
       "    }\n",
       "</style>\n",
       "<table border=\"1\" class=\"dataframe\">\n",
       "  <thead>\n",
       "    <tr style=\"text-align: right;\">\n",
       "      <th></th>\n",
       "      <th>임의고유번호</th>\n",
       "      <th>시도</th>\n",
       "      <th>시군구</th>\n",
       "      <th>읍면동</th>\n",
       "      <th>세부주소</th>\n",
       "      <th>활용유형</th>\n",
       "      <th>활용용도</th>\n",
       "      <th>자체활용세부</th>\n",
       "      <th>대부세부</th>\n",
       "    </tr>\n",
       "  </thead>\n",
       "  <tbody>\n",
       "    <tr>\n",
       "      <th>0</th>\n",
       "      <td>609</td>\n",
       "      <td>경북</td>\n",
       "      <td>포항시 남구</td>\n",
       "      <td>구룡포읍</td>\n",
       "      <td>병포리 139-1</td>\n",
       "      <td>대부</td>\n",
       "      <td>교육시설</td>\n",
       "      <td>NaN</td>\n",
       "      <td>독서캠핑장</td>\n",
       "    </tr>\n",
       "    <tr>\n",
       "      <th>1</th>\n",
       "      <td>610</td>\n",
       "      <td>경북</td>\n",
       "      <td>포항시 남구</td>\n",
       "      <td>호미곶면</td>\n",
       "      <td>대동배리 410-1 외</td>\n",
       "      <td>대부</td>\n",
       "      <td>교육시설</td>\n",
       "      <td>NaN</td>\n",
       "      <td>어촌체험학습시설</td>\n",
       "    </tr>\n",
       "    <tr>\n",
       "      <th>2</th>\n",
       "      <td>611</td>\n",
       "      <td>경북</td>\n",
       "      <td>포항시 북구</td>\n",
       "      <td>죽도동</td>\n",
       "      <td>655-9</td>\n",
       "      <td>자체활용</td>\n",
       "      <td>교육용시설</td>\n",
       "      <td>포항항도중학교</td>\n",
       "      <td>NaN</td>\n",
       "    </tr>\n",
       "    <tr>\n",
       "      <th>3</th>\n",
       "      <td>612</td>\n",
       "      <td>경북</td>\n",
       "      <td>포항시 북구</td>\n",
       "      <td>환호동</td>\n",
       "      <td>13-7</td>\n",
       "      <td>자체활용</td>\n",
       "      <td>교육용시설</td>\n",
       "      <td>포항유아교육체험센터</td>\n",
       "      <td>NaN</td>\n",
       "    </tr>\n",
       "    <tr>\n",
       "      <th>4</th>\n",
       "      <td>613</td>\n",
       "      <td>경북</td>\n",
       "      <td>포항시 남구</td>\n",
       "      <td>동해면</td>\n",
       "      <td>흥환리 357 외</td>\n",
       "      <td>대부</td>\n",
       "      <td>교육시설</td>\n",
       "      <td>NaN</td>\n",
       "      <td>귀어귀촌학교및체험장</td>\n",
       "    </tr>\n",
       "  </tbody>\n",
       "</table>\n",
       "</div>"
      ],
      "text/plain": [
       "   임의고유번호  시도     시군구   읍면동          세부주소  활용유형   활용용도      자체활용세부        대부세부\n",
       "0     609  경북  포항시 남구  구룡포읍     병포리 139-1    대부   교육시설         NaN       독서캠핑장\n",
       "1     610  경북  포항시 남구  호미곶면  대동배리 410-1 외    대부   교육시설         NaN    어촌체험학습시설\n",
       "2     611  경북  포항시 북구   죽도동         655-9  자체활용  교육용시설     포항항도중학교         NaN\n",
       "3     612  경북  포항시 북구   환호동          13-7  자체활용  교육용시설  포항유아교육체험센터         NaN\n",
       "4     613  경북  포항시 남구   동해면     흥환리 357 외    대부   교육시설         NaN  귀어귀촌학교및체험장"
      ]
     },
     "execution_count": 42,
     "metadata": {},
     "output_type": "execute_result"
    }
   ],
   "source": [
    "df1 = pd.read_excel('폐교용도라벨_세부추가.xlsx')\n",
    "df1.head()"
   ]
  },
  {
   "cell_type": "code",
   "execution_count": 48,
   "id": "9e1723fe-7edb-4cbd-96c1-f31e10ea48c9",
   "metadata": {},
   "outputs": [],
   "source": [
    "df_label = df1['활용용도'].value_counts()\n",
    "df_label.to_csv('라벨.csv', encoding='euc-kr')"
   ]
  },
  {
   "cell_type": "code",
   "execution_count": 49,
   "id": "64fc773b-d4da-4050-b98b-fab2db3f1a80",
   "metadata": {},
   "outputs": [],
   "source": [
    "df1 = pd.read_csv('라벨.csv', encoding='euc-kr')"
   ]
  },
  {
   "cell_type": "code",
   "execution_count": 50,
   "id": "11cd1d96-de07-4978-8b9b-5b1a74cacb13",
   "metadata": {},
   "outputs": [
    {
     "data": {
      "text/html": [
       "<div>\n",
       "<style scoped>\n",
       "    .dataframe tbody tr th:only-of-type {\n",
       "        vertical-align: middle;\n",
       "    }\n",
       "\n",
       "    .dataframe tbody tr th {\n",
       "        vertical-align: top;\n",
       "    }\n",
       "\n",
       "    .dataframe thead th {\n",
       "        text-align: right;\n",
       "    }\n",
       "</style>\n",
       "<table border=\"1\" class=\"dataframe\">\n",
       "  <thead>\n",
       "    <tr style=\"text-align: right;\">\n",
       "      <th></th>\n",
       "      <th>활용용도</th>\n",
       "      <th>개수</th>\n",
       "    </tr>\n",
       "  </thead>\n",
       "  <tbody>\n",
       "    <tr>\n",
       "      <th>0</th>\n",
       "      <td>교육용시설</td>\n",
       "      <td>80</td>\n",
       "    </tr>\n",
       "    <tr>\n",
       "      <th>1</th>\n",
       "      <td>교육연구시설</td>\n",
       "      <td>49</td>\n",
       "    </tr>\n",
       "    <tr>\n",
       "      <th>2</th>\n",
       "      <td>소득증대시설</td>\n",
       "      <td>48</td>\n",
       "    </tr>\n",
       "    <tr>\n",
       "      <th>3</th>\n",
       "      <td>교육시설</td>\n",
       "      <td>42</td>\n",
       "    </tr>\n",
       "    <tr>\n",
       "      <th>4</th>\n",
       "      <td>문화시설</td>\n",
       "      <td>38</td>\n",
       "    </tr>\n",
       "    <tr>\n",
       "      <th>5</th>\n",
       "      <td>기타</td>\n",
       "      <td>32</td>\n",
       "    </tr>\n",
       "    <tr>\n",
       "      <th>6</th>\n",
       "      <td>사회복지시설</td>\n",
       "      <td>14</td>\n",
       "    </tr>\n",
       "    <tr>\n",
       "      <th>7</th>\n",
       "      <td>체험,수련시설</td>\n",
       "      <td>13</td>\n",
       "    </tr>\n",
       "    <tr>\n",
       "      <th>8</th>\n",
       "      <td>수련시설</td>\n",
       "      <td>8</td>\n",
       "    </tr>\n",
       "    <tr>\n",
       "      <th>9</th>\n",
       "      <td>교직원 사택</td>\n",
       "      <td>5</td>\n",
       "    </tr>\n",
       "    <tr>\n",
       "      <th>10</th>\n",
       "      <td>주민복리시설</td>\n",
       "      <td>4</td>\n",
       "    </tr>\n",
       "    <tr>\n",
       "      <th>11</th>\n",
       "      <td>공공체육시설</td>\n",
       "      <td>2</td>\n",
       "    </tr>\n",
       "    <tr>\n",
       "      <th>12</th>\n",
       "      <td>기타시설</td>\n",
       "      <td>1</td>\n",
       "    </tr>\n",
       "    <tr>\n",
       "      <th>13</th>\n",
       "      <td>업무시설 등</td>\n",
       "      <td>1</td>\n",
       "    </tr>\n",
       "    <tr>\n",
       "      <th>14</th>\n",
       "      <td>소득증대 및 공동이용시설</td>\n",
       "      <td>1</td>\n",
       "    </tr>\n",
       "    <tr>\n",
       "      <th>15</th>\n",
       "      <td>소득증대시설\\n공동이용시설</td>\n",
       "      <td>1</td>\n",
       "    </tr>\n",
       "  </tbody>\n",
       "</table>\n",
       "</div>"
      ],
      "text/plain": [
       "              활용용도  개수\n",
       "0            교육용시설  80\n",
       "1           교육연구시설  49\n",
       "2           소득증대시설  48\n",
       "3             교육시설  42\n",
       "4             문화시설  38\n",
       "5               기타  32\n",
       "6           사회복지시설  14\n",
       "7          체험,수련시설  13\n",
       "8             수련시설   8\n",
       "9           교직원 사택   5\n",
       "10          주민복리시설   4\n",
       "11          공공체육시설   2\n",
       "12            기타시설   1\n",
       "13          업무시설 등   1\n",
       "14   소득증대 및 공동이용시설   1\n",
       "15  소득증대시설\\n공동이용시설   1"
      ]
     },
     "execution_count": 50,
     "metadata": {},
     "output_type": "execute_result"
    }
   ],
   "source": [
    "df1"
   ]
  },
  {
   "cell_type": "code",
   "execution_count": 52,
   "id": "4f19ab67-c3f2-4b98-800c-e2d6d59c2aa8",
   "metadata": {},
   "outputs": [
    {
     "data": {
      "image/png": "[encoded data removed]",
      "text/plain": [
       "<Figure size 864x360 with 1 Axes>"
      ]
     },
     "metadata": {},
     "output_type": "display_data"
    }
   ],
   "source": [
    "plt.style.use('ggplot')\n",
    "plt.bar(df1['활용용도'], df1['개수'])\n",
    "plt.title('활용용도 분포 현황', fontsize=20)\n",
    "plt.xlabel('활용용도', fontsize=12)\n",
    "plt.ylabel('개수', fontsize=12)\n",
    "plt.xticks(rotation=90)\n",
    "plt.rc('font', family='Malgun Gothic')\n",
    "plt.show()"
   ]
  },
  {
   "cell_type": "code",
   "execution_count": 70,
   "id": "decb684d-c0d3-4b2d-98a3-c9eae6aa8474",
   "metadata": {},
   "outputs": [
    {
     "data": {
      "text/html": [
       "<div>\n",
       "<style scoped>\n",
       "    .dataframe tbody tr th:only-of-type {\n",
       "        vertical-align: middle;\n",
       "    }\n",
       "\n",
       "    .dataframe tbody tr th {\n",
       "        vertical-align: top;\n",
       "    }\n",
       "\n",
       "    .dataframe thead th {\n",
       "        text-align: right;\n",
       "    }\n",
       "</style>\n",
       "<table border=\"1\" class=\"dataframe\">\n",
       "  <thead>\n",
       "    <tr style=\"text-align: right;\">\n",
       "      <th></th>\n",
       "      <th>활용용도</th>\n",
       "      <th>개수</th>\n",
       "    </tr>\n",
       "  </thead>\n",
       "  <tbody>\n",
       "    <tr>\n",
       "      <th>0</th>\n",
       "      <td>교육용시설</td>\n",
       "      <td>80</td>\n",
       "    </tr>\n",
       "    <tr>\n",
       "      <th>1</th>\n",
       "      <td>교육연구시설</td>\n",
       "      <td>49</td>\n",
       "    </tr>\n",
       "    <tr>\n",
       "      <th>2</th>\n",
       "      <td>소득증대시설</td>\n",
       "      <td>48</td>\n",
       "    </tr>\n",
       "    <tr>\n",
       "      <th>3</th>\n",
       "      <td>교육시설</td>\n",
       "      <td>42</td>\n",
       "    </tr>\n",
       "  </tbody>\n",
       "</table>\n",
       "</div>"
      ],
      "text/plain": [
       "     활용용도  개수\n",
       "0   교육용시설  80\n",
       "1  교육연구시설  49\n",
       "2  소득증대시설  48\n",
       "3    교육시설  42"
      ]
     },
     "execution_count": 70,
     "metadata": {},
     "output_type": "execute_result"
    }
   ],
   "source": [
    "df1.head(4)"
   ]
  },
  {
   "cell_type": "markdown",
   "id": "11472518-3148-472a-afd9-62d3ea5c9105",
   "metadata": {},
   "source": [
    "## 앞 두글만 추출한 통합데이터 분포"
   ]
  },
  {
   "cell_type": "code",
   "execution_count": 112,
   "id": "7e92e061-ad93-4cb7-bf7c-6c032d5fd274",
   "metadata": {},
   "outputs": [
    {
     "data": {
      "text/html": [
       "<div>\n",
       "<style scoped>\n",
       "    .dataframe tbody tr th:only-of-type {\n",
       "        vertical-align: middle;\n",
       "    }\n",
       "\n",
       "    .dataframe tbody tr th {\n",
       "        vertical-align: top;\n",
       "    }\n",
       "\n",
       "    .dataframe thead th {\n",
       "        text-align: right;\n",
       "    }\n",
       "</style>\n",
       "<table border=\"1\" class=\"dataframe\">\n",
       "  <thead>\n",
       "    <tr style=\"text-align: right;\">\n",
       "      <th></th>\n",
       "      <th>활용용도</th>\n",
       "      <th>개수</th>\n",
       "    </tr>\n",
       "  </thead>\n",
       "  <tbody>\n",
       "    <tr>\n",
       "      <th>0</th>\n",
       "      <td>교육</td>\n",
       "      <td>171</td>\n",
       "    </tr>\n",
       "    <tr>\n",
       "      <th>1</th>\n",
       "      <td>소득</td>\n",
       "      <td>48</td>\n",
       "    </tr>\n",
       "    <tr>\n",
       "      <th>2</th>\n",
       "      <td>문화</td>\n",
       "      <td>38</td>\n",
       "    </tr>\n",
       "    <tr>\n",
       "      <th>3</th>\n",
       "      <td>기타</td>\n",
       "      <td>32</td>\n",
       "    </tr>\n",
       "    <tr>\n",
       "      <th>4</th>\n",
       "      <td>사회</td>\n",
       "      <td>14</td>\n",
       "    </tr>\n",
       "  </tbody>\n",
       "</table>\n",
       "</div>"
      ],
      "text/plain": [
       "  활용용도   개수\n",
       "0   교육  171\n",
       "1   소득   48\n",
       "2   문화   38\n",
       "3   기타   32\n",
       "4   사회   14"
      ]
     },
     "execution_count": 112,
     "metadata": {},
     "output_type": "execute_result"
    }
   ],
   "source": [
    "df2 = pd.read_excel('라벨1.xlsx')\n",
    "df2.head()"
   ]
  },
  {
   "cell_type": "code",
   "execution_count": 113,
   "id": "49c60bde-69a5-467e-917b-18a534a17210",
   "metadata": {},
   "outputs": [
    {
     "data": {
      "image/png": "[encoded data removed]",
      "text/plain": [
       "<Figure size 864x360 with 1 Axes>"
      ]
     },
     "metadata": {},
     "output_type": "display_data"
    }
   ],
   "source": [
    "plt.style.use('ggplot')\n",
    "plt.bar(df2['활용용도'], df2['개수'])\n",
    "plt.title('활용용도 분포 현황', fontsize=20)\n",
    "plt.xlabel('활용용도', fontsize=12)\n",
    "plt.ylabel('개수', fontsize=12)\n",
    "plt.xticks(rotation=90)\n",
    "plt.rc('font', family='Malgun Gothic')\n",
    "plt.show()"
   ]
  },
  {
   "cell_type": "code",
   "execution_count": null,
   "id": "c19368f9-09e3-4bca-b3d8-16eabcaa6434",
   "metadata": {},
   "outputs": [],
   "source": []
  }
 ],
 "metadata": {
  "kernelspec": {
   "display_name": "Python 3",
   "language": "python",
   "name": "python3"
  },
  "language_info": {
   "codemirror_mode": {
    "name": "ipython",
    "version": 3
   },
   "file_extension": ".py",
   "mimetype": "text/x-python",
   "name": "python",
   "nbconvert_exporter": "python",
   "pygments_lexer": "ipython3",
   "version": "3.8.8"
  }
 },
 "nbformat": 4,
 "nbformat_minor": 5
}
