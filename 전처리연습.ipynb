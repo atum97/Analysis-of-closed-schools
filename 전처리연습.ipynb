{
 "cells": [
  {
   "cell_type": "code",
   "execution_count": 53,
   "id": "ca9a1812-6b7c-41e3-9fef-950c25d624b0",
   "metadata": {},
   "outputs": [],
   "source": [
    "import pandas as pd\n",
    "import seaborn as sns\n",
    "import os\n",
    "os.chdir(r'C:\\Users\\user\\Desktop\\전처리및EDA학습자료\\dataset\\part-1.-데이터-핸들링\\1. 데이터 핸들링\\데이터')"
   ]
  },
  {
   "cell_type": "code",
   "execution_count": 32,
   "id": "40bb94af-99b6-4c1d-84db-f1ae38d7ce1f",
   "metadata": {},
   "outputs": [
    {
     "data": {
      "text/plain": [
       "'C:\\\\Python'"
      ]
     },
     "execution_count": 32,
     "metadata": {},
     "output_type": "execute_result"
    }
   ],
   "source": [
    "os.getcwd()"
   ]
  },
  {
   "cell_type": "code",
   "execution_count": 33,
   "id": "99cebb54-5c95-4135-89f4-e06e6fdeafd2",
   "metadata": {},
   "outputs": [
    {
     "data": {
      "text/html": [
       "<div>\n",
       "<style scoped>\n",
       "    .dataframe tbody tr th:only-of-type {\n",
       "        vertical-align: middle;\n",
       "    }\n",
       "\n",
       "    .dataframe tbody tr th {\n",
       "        vertical-align: top;\n",
       "    }\n",
       "\n",
       "    .dataframe thead th {\n",
       "        text-align: right;\n",
       "    }\n",
       "</style>\n",
       "<table border=\"1\" class=\"dataframe\">\n",
       "  <thead>\n",
       "    <tr style=\"text-align: right;\">\n",
       "      <th></th>\n",
       "      <th>��¥</th>\n",
       "      <th>��ǰ1</th>\n",
       "      <th>��ǰ2</th>\n",
       "      <th>��ǰ3</th>\n",
       "    </tr>\n",
       "  </thead>\n",
       "  <tbody>\n",
       "    <tr>\n",
       "      <th>0</th>\n",
       "      <td>2019-01-01</td>\n",
       "      <td>48</td>\n",
       "      <td>48</td>\n",
       "      <td>50</td>\n",
       "    </tr>\n",
       "    <tr>\n",
       "      <th>1</th>\n",
       "      <td>2019-01-02</td>\n",
       "      <td>48</td>\n",
       "      <td>44</td>\n",
       "      <td>49</td>\n",
       "    </tr>\n",
       "    <tr>\n",
       "      <th>2</th>\n",
       "      <td>2019-01-03</td>\n",
       "      <td>48</td>\n",
       "      <td>54</td>\n",
       "      <td>50</td>\n",
       "    </tr>\n",
       "    <tr>\n",
       "      <th>3</th>\n",
       "      <td>2019-01-04</td>\n",
       "      <td>53</td>\n",
       "      <td>42</td>\n",
       "      <td>48</td>\n",
       "    </tr>\n",
       "    <tr>\n",
       "      <th>4</th>\n",
       "      <td>2019-01-05</td>\n",
       "      <td>46</td>\n",
       "      <td>42</td>\n",
       "      <td>50</td>\n",
       "    </tr>\n",
       "    <tr>\n",
       "      <th>...</th>\n",
       "      <td>...</td>\n",
       "      <td>...</td>\n",
       "      <td>...</td>\n",
       "      <td>...</td>\n",
       "    </tr>\n",
       "    <tr>\n",
       "      <th>360</th>\n",
       "      <td>2019-12-27</td>\n",
       "      <td>51</td>\n",
       "      <td>56</td>\n",
       "      <td>53</td>\n",
       "    </tr>\n",
       "    <tr>\n",
       "      <th>361</th>\n",
       "      <td>2019-12-28</td>\n",
       "      <td>54</td>\n",
       "      <td>50</td>\n",
       "      <td>53</td>\n",
       "    </tr>\n",
       "    <tr>\n",
       "      <th>362</th>\n",
       "      <td>2019-12-29</td>\n",
       "      <td>57</td>\n",
       "      <td>49</td>\n",
       "      <td>46</td>\n",
       "    </tr>\n",
       "    <tr>\n",
       "      <th>363</th>\n",
       "      <td>2019-12-30</td>\n",
       "      <td>45</td>\n",
       "      <td>58</td>\n",
       "      <td>48</td>\n",
       "    </tr>\n",
       "    <tr>\n",
       "      <th>364</th>\n",
       "      <td>2019-12-31</td>\n",
       "      <td>50</td>\n",
       "      <td>41</td>\n",
       "      <td>47</td>\n",
       "    </tr>\n",
       "  </tbody>\n",
       "</table>\n",
       "<p>365 rows × 4 columns</p>\n",
       "</div>"
      ],
      "text/plain": [
       "            ��¥  ��ǰ1  ��ǰ2  ��ǰ3\n",
       "0    2019-01-01    48    48    50\n",
       "1    2019-01-02    48    44    49\n",
       "2    2019-01-03    48    54    50\n",
       "3    2019-01-04    53    42    48\n",
       "4    2019-01-05    46    42    50\n",
       "..          ...   ...   ...   ...\n",
       "360  2019-12-27    51    56    53\n",
       "361  2019-12-28    54    50    53\n",
       "362  2019-12-29    57    49    46\n",
       "363  2019-12-30    45    58    48\n",
       "364  2019-12-31    50    41    47\n",
       "\n",
       "[365 rows x 4 columns]"
      ]
     },
     "execution_count": 33,
     "metadata": {},
     "output_type": "execute_result"
    }
   ],
   "source": [
    "pd.read_csv('2019년_시간대별_상품판매량.csv')"
   ]
  },
  {
   "cell_type": "code",
   "execution_count": 43,
   "id": "5cc2efd7-5d64-4413-a767-0df56bc950e0",
   "metadata": {},
   "outputs": [
    {
     "data": {
      "text/html": [
       "<div>\n",
       "<style scoped>\n",
       "    .dataframe tbody tr th:only-of-type {\n",
       "        vertical-align: middle;\n",
       "    }\n",
       "\n",
       "    .dataframe tbody tr th {\n",
       "        vertical-align: top;\n",
       "    }\n",
       "\n",
       "    .dataframe thead th {\n",
       "        text-align: right;\n",
       "    }\n",
       "</style>\n",
       "<table border=\"1\" class=\"dataframe\">\n",
       "  <thead>\n",
       "    <tr style=\"text-align: right;\">\n",
       "      <th></th>\n",
       "      <th>날짜</th>\n",
       "      <th>상품1</th>\n",
       "      <th>상품2</th>\n",
       "      <th>상품3</th>\n",
       "    </tr>\n",
       "  </thead>\n",
       "  <tbody>\n",
       "    <tr>\n",
       "      <th>0</th>\n",
       "      <td>2019-01-01</td>\n",
       "      <td>48</td>\n",
       "      <td>48</td>\n",
       "      <td>50</td>\n",
       "    </tr>\n",
       "    <tr>\n",
       "      <th>1</th>\n",
       "      <td>2019-01-02</td>\n",
       "      <td>48</td>\n",
       "      <td>44</td>\n",
       "      <td>49</td>\n",
       "    </tr>\n",
       "    <tr>\n",
       "      <th>2</th>\n",
       "      <td>2019-01-03</td>\n",
       "      <td>48</td>\n",
       "      <td>54</td>\n",
       "      <td>50</td>\n",
       "    </tr>\n",
       "    <tr>\n",
       "      <th>3</th>\n",
       "      <td>2019-01-04</td>\n",
       "      <td>53</td>\n",
       "      <td>42</td>\n",
       "      <td>48</td>\n",
       "    </tr>\n",
       "    <tr>\n",
       "      <th>4</th>\n",
       "      <td>2019-01-05</td>\n",
       "      <td>46</td>\n",
       "      <td>42</td>\n",
       "      <td>50</td>\n",
       "    </tr>\n",
       "    <tr>\n",
       "      <th>...</th>\n",
       "      <td>...</td>\n",
       "      <td>...</td>\n",
       "      <td>...</td>\n",
       "      <td>...</td>\n",
       "    </tr>\n",
       "    <tr>\n",
       "      <th>360</th>\n",
       "      <td>2019-12-27</td>\n",
       "      <td>51</td>\n",
       "      <td>56</td>\n",
       "      <td>53</td>\n",
       "    </tr>\n",
       "    <tr>\n",
       "      <th>361</th>\n",
       "      <td>2019-12-28</td>\n",
       "      <td>54</td>\n",
       "      <td>50</td>\n",
       "      <td>53</td>\n",
       "    </tr>\n",
       "    <tr>\n",
       "      <th>362</th>\n",
       "      <td>2019-12-29</td>\n",
       "      <td>57</td>\n",
       "      <td>49</td>\n",
       "      <td>46</td>\n",
       "    </tr>\n",
       "    <tr>\n",
       "      <th>363</th>\n",
       "      <td>2019-12-30</td>\n",
       "      <td>45</td>\n",
       "      <td>58</td>\n",
       "      <td>48</td>\n",
       "    </tr>\n",
       "    <tr>\n",
       "      <th>364</th>\n",
       "      <td>2019-12-31</td>\n",
       "      <td>50</td>\n",
       "      <td>41</td>\n",
       "      <td>47</td>\n",
       "    </tr>\n",
       "  </tbody>\n",
       "</table>\n",
       "<p>365 rows × 4 columns</p>\n",
       "</div>"
      ],
      "text/plain": [
       "             날짜  상품1  상품2  상품3\n",
       "0    2019-01-01   48   48   50\n",
       "1    2019-01-02   48   44   49\n",
       "2    2019-01-03   48   54   50\n",
       "3    2019-01-04   53   42   48\n",
       "4    2019-01-05   46   42   50\n",
       "..          ...  ...  ...  ...\n",
       "360  2019-12-27   51   56   53\n",
       "361  2019-12-28   54   50   53\n",
       "362  2019-12-29   57   49   46\n",
       "363  2019-12-30   45   58   48\n",
       "364  2019-12-31   50   41   47\n",
       "\n",
       "[365 rows x 4 columns]"
      ]
     },
     "execution_count": 43,
     "metadata": {},
     "output_type": "execute_result"
    }
   ],
   "source": [
    "df = pd.read_csv('test.csv')\n",
    "df"
   ]
  },
  {
   "cell_type": "code",
   "execution_count": 44,
   "id": "017e7934-f812-4535-885c-7af8bdd4d07a",
   "metadata": {},
   "outputs": [
    {
     "data": {
      "text/plain": [
       "['.ipynb_checkpoints',\n",
       " '2019년_시간대별_상품판매량.csv',\n",
       " 'books.db',\n",
       " 'chromedriver_win32',\n",
       " 'dp.html',\n",
       " 'full_book_list.html',\n",
       " 'Hello World.txt',\n",
       " 'jupyter_lab.bat',\n",
       " 'mymodule',\n",
       " 'myprint.ipynb',\n",
       " 'myprint.py',\n",
       " 'pj_data_전국',\n",
       " 'Python 프로그래밍 이해 실습자료_20210313',\n",
       " 'Python실습',\n",
       " 'Python외부데이터 수집정제(코드_데이터)-20210712T070007Z-001',\n",
       " 'rss.xml',\n",
       " 'Seaborn 시각화.ipynb',\n",
       " 'selenuium',\n",
       " 'sqliteDB',\n",
       " 'test.csv',\n",
       " 'top_ciaties.csv',\n",
       " 'top_cities',\n",
       " 'top_cities.csv',\n",
       " 'top_cities.db',\n",
       " 'top_cities.json',\n",
       " '__pycache__',\n",
       " '날씨정보.json',\n",
       " '날씨정보.xlsx',\n",
       " '날씨정보2.xlsx',\n",
       " '연습(2).ipynb',\n",
       " '연습.ipynb',\n",
       " '전기차',\n",
       " '전처리연습.ipynb']"
      ]
     },
     "execution_count": 44,
     "metadata": {},
     "output_type": "execute_result"
    }
   ],
   "source": [
    "os.listdir()"
   ]
  },
  {
   "cell_type": "code",
   "execution_count": 45,
   "id": "ce07e36b-4452-470a-87c7-6b7ffaebb84b",
   "metadata": {},
   "outputs": [
    {
     "name": "stdout",
     "output_type": "stream",
     "text": [
      "<class 'pandas.core.frame.DataFrame'>\n",
      "RangeIndex: 365 entries, 0 to 364\n",
      "Data columns (total 4 columns):\n",
      " #   Column  Non-Null Count  Dtype \n",
      "---  ------  --------------  ----- \n",
      " 0   날짜      365 non-null    object\n",
      " 1   상품1     365 non-null    int64 \n",
      " 2   상품2     365 non-null    int64 \n",
      " 3   상품3     365 non-null    int64 \n",
      "dtypes: int64(3), object(1)\n",
      "memory usage: 11.5+ KB\n"
     ]
    }
   ],
   "source": [
    "df.info()"
   ]
  },
  {
   "cell_type": "code",
   "execution_count": 57,
   "id": "4f02ff74-07d8-4d6e-b6e7-b89ce39aceeb",
   "metadata": {},
   "outputs": [],
   "source": [
    "os.chdir(r'C:\\Users\\user\\Desktop\\전처리및EDA학습자료\\dataset\\part-1.-데이터-핸들링\\1. 데이터 핸들링\\데이터')"
   ]
  },
  {
   "cell_type": "code",
   "execution_count": 58,
   "id": "5a34ea06-1088-4f19-b53a-c01fc68cec90",
   "metadata": {},
   "outputs": [
    {
     "data": {
      "text/plain": [
       "'C:\\\\Users\\\\user\\\\Desktop\\\\전처리및EDA학습자료\\\\dataset\\\\part-1.-데이터-핸들링\\\\1. 데이터 핸들링\\\\데이터'"
      ]
     },
     "execution_count": 58,
     "metadata": {},
     "output_type": "execute_result"
    }
   ],
   "source": [
    "os.getcwd()"
   ]
  }
 ],
 "metadata": {
  "kernelspec": {
   "display_name": "Python 3",
   "language": "python",
   "name": "python3"
  },
  "language_info": {
   "codemirror_mode": {
    "name": "ipython",
    "version": 3
   },
   "file_extension": ".py",
   "mimetype": "text/x-python",
   "name": "python",
   "nbconvert_exporter": "python",
   "pygments_lexer": "ipython3",
   "version": "3.8.8"
  }
 },
 "nbformat": 4,
 "nbformat_minor": 5
}
